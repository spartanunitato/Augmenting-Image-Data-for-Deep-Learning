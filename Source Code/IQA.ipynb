{
 "cells": [
  {
   "cell_type": "code",
   "execution_count": null,
   "metadata": {},
   "outputs": [],
   "source": [
    "#use CPU for IQA as CUDA in GPU is not compatible with the python version\n",
    "import os\n",
    "os.environ[\"CUDA_VISIBLE_DEVICES\"]=\"-1\""
   ]
  },
  {
   "cell_type": "markdown",
   "metadata": {},
   "source": [
    "# Import library"
   ]
  },
  {
   "cell_type": "code",
   "execution_count": null,
   "metadata": {},
   "outputs": [],
   "source": [
    "import imquality.brisque as brisque\n",
    "import PIL.Image\n",
    "import pandas as pd\n",
    "import numpy as np\n",
    "from tqdm import tqdm\n",
    "from PIL import ImageFile\n",
    "from tensorflow.keras.preprocessing import image\n",
    "ImageFile.LOAD_TRUNCATED_IMAGES = True"
   ]
  },
  {
   "cell_type": "code",
   "execution_count": null,
   "metadata": {},
   "outputs": [],
   "source": [
    "from skimage.metrics import peak_signal_noise_ratio as PSNR"
   ]
  },
  {
   "cell_type": "markdown",
   "metadata": {},
   "source": [
    "# Load Data, preprocess"
   ]
  },
  {
   "cell_type": "code",
   "execution_count": null,
   "metadata": {},
   "outputs": [],
   "source": [
    "disease_img = {'Atelectasis': [],\n",
    "                 'Cardiomegaly': [],\n",
    "                 'Effusion': [],\n",
    "                 'Infiltration': [],\n",
    "                 'Mass': [],\n",
    "                 'Nodule': [],\n",
    "                 'Pneumonia': [],\n",
    "                 'Pneumothorax': [],\n",
    "                 'Consolidation': [],\n",
    "                 'Edema': [],\n",
    "                 'Emphysema': [],\n",
    "                 'Fibrosis': [],\n",
    "                 'Pleural_Thickening': [],\n",
    "                 'Hernia': [],\n",
    "                 'No Finding':[]}"
   ]
  },
  {
   "cell_type": "code",
   "execution_count": null,
   "metadata": {},
   "outputs": [],
   "source": [
    "disease_class = {'Atelectasis': 1,\n",
    "                 'Cardiomegaly': 2,\n",
    "                 'Effusion': 3,\n",
    "                 'Infiltration': 4,\n",
    "                 'Mass': 5,\n",
    "                 'Nodule': 6,\n",
    "                 'Pneumonia': 7,\n",
    "                 'Pneumothorax': 8,\n",
    "                 'Consolidation': 9,\n",
    "                 'Edema': 10,\n",
    "                 'Emphysema': 11,\n",
    "                 'Fibrosis': 12,\n",
    "                 'Pleural_Thickening': 13,\n",
    "                 'Hernia': 14,\n",
    "                 'No Finding': 15}\n",
    "\n",
    "disease_rev = {v: k for k, v in disease_class.items()}"
   ]
  },
  {
   "cell_type": "code",
   "execution_count": null,
   "metadata": {},
   "outputs": [],
   "source": [
    "data_ref = pd.read_csv(\"/media/ntu/volume1/home/s123md305_01/Documents/CXR8/Data_Entry_2017_v2020.csv\")\n",
    "pd.options.mode.chained_assignment = None        #ignore the SettingWithCopyWarning\n",
    "img_names=[]\n",
    "img_names2=[]\n",
    "\n",
    "#/media/ntu/volume1/home/s123md305_01/Documents/Generated/reconstructed_labels.csv\n",
    "#/media/ntu/volume1/home/s123md305_01/Documents/CXR8/Data_Entry_2017_v2020.csv\n",
    "for i in tqdm(range(len(data_ref))):\n",
    "    #print(i)\n",
    "    if \"|\" not in data_ref['Finding Labels'][i]:\n",
    "        disease_img[data_ref['Finding Labels'][i]].append(data_ref['Image Index'][i])\n",
    "        img_names.append(data_ref['Image Index'][i])\n",
    "\n",
    "data_ref_2 = pd.read_csv(\"/media/ntu/volume1/home/s123md305_01/Documents/Generated/reconstructed_labels.csv\")  # Update the path to the second dataset\n",
    "\n",
    "# Initialize dictionary for the second dataset\n",
    "disease_img_2 = {disease: [] for disease in disease_class.keys()}\n",
    "\n",
    "# Populate the dictionary with image names from the second dataset\n",
    "for i in tqdm(range(len(data_ref_2))):\n",
    "    if \"|\" not in data_ref_2['Finding Labels'][i]:\n",
    "        disease_img_2[data_ref_2['Finding Labels'][i]].append(data_ref_2['Image Index'][i])\n",
    "        img_names2.append(data_ref_2['Image Index'][i])\n",
    "\n",
    "# If you need a simplified reference for the second dataset as well\n"
   ]
  },
  {
   "cell_type": "markdown",
   "metadata": {},
   "source": [
    "# PSNR"
   ]
  },
  {
   "cell_type": "code",
   "execution_count": null,
   "metadata": {},
   "outputs": [],
   "source": [
    "import warnings\n",
    "\n",
    "    \n",
    "warnings.simplefilter(action='ignore', category=FutureWarning)\n",
    "\n",
    "quality = pd.DataFrame(columns=['styleGAN VS Original'])\n",
    "\n",
    "# Assuming you meant to collect all the original and GAN images in lists\n",
    "ori_images = []\n",
    "gan_images = []\n",
    "\n",
    "for img_name in tqdm(img_names):\n",
    "    img_path = '/media/ntu/volume1/home/s123md305_01/Documents/CombinedResized/Resized112/' + img_name\n",
    "    img = image.load_img(img_path, target_size=(112, 112, 3))\n",
    "    ori_images.append(image.img_to_array(img))\n",
    "\n",
    "for img_name in tqdm(img_names2):\n",
    "    img_path = '/media/ntu/volume1/home/s123md305_01/Documents/Generated/ComGenerated112/' + img_name\n",
    "    img = image.load_img(img_path, target_size=(112, 112, 3))\n",
    "    gan_images.append(image.img_to_array(img))\n",
    "\n",
    "gan_scores = []\n",
    "\n",
    "for ori, gan in zip(ori_images, gan_images):\n",
    "    gan_score = PSNR(ori, gan, data_range=255)\n",
    "    gan_scores.append({'styleGAN VS Original': gan_score})\n",
    "\n",
    "# Convert the list of dictionaries to a DataFrame before concatenating\n",
    "gan_scores_df = pd.DataFrame(gan_scores)\n",
    "quality = pd.concat([quality, gan_scores_df], ignore_index=True)\n",
    "\n",
    "quality.to_csv('/media/ntu/volume1/home/s123md305_01/Documents/Results/IQA_PSNR.csv')"
   ]
  },
  {
   "cell_type": "code",
   "execution_count": null,
   "metadata": {},
   "outputs": [],
   "source": [
    "bin_values = np.arange(start=0, stop=25, step=1)"
   ]
  },
  {
   "cell_type": "code",
   "execution_count": null,
   "metadata": {},
   "outputs": [],
   "source": [
    "noise = quality['styleGAN VS Original']\n",
    "noise.plot(kind = 'hist', bins=bin_values, figsize=[15,10],alpha=.4, legend = 'Ture')\n",
    "#gan = quality['GAN']\n",
    "#gan.plot(kind = 'hist', bins=bin_values, figsize=[15,10],alpha=.4, legend = 'Ture')"
   ]
  },
  {
   "cell_type": "markdown",
   "metadata": {},
   "source": [
    "# BRISQUE"
   ]
  },
  {
   "cell_type": "code",
   "execution_count": null,
   "metadata": {},
   "outputs": [],
   "source": [
    "# BRISQUE (DCGAN, Original, Noise)\n",
    "import warnings\n",
    "warnings.simplefilter(action='ignore', category=FutureWarning)\n",
    "quality = pd.DataFrame(columns = ['Img_Name','Original', 'styleGAN'])\n",
    "\n",
    "for i in tqdm(range(len(img_names))):\n",
    "    name = img_names[i]\n",
    "    ori = PIL.Image.open('/media/ntu/volume1/home/s123md305_01/Documents/CombinedResized/Resized112/'+name)\n",
    "    ori_score = brisque.score(ori)\n",
    "    \n",
    "    gan = PIL.Image.open('/media/ntu/volume1/home/s123md305_01/Documents/Generated/IndexMatched112/ComGenerated112/'+name)\n",
    "    gan_score = brisque.score(gan)\n",
    "\n",
    "    quality = quality.append({'Img_Name': name, 'Original': ori_score, 'DCGAN': gan_score}, ignore_index=True)\n",
    "\n",
    "quality.to_csv('IQA_BRISQUE.csv')"
   ]
  },
  {
   "cell_type": "code",
   "execution_count": null,
   "metadata": {},
   "outputs": [],
   "source": [
    "bin_values = np.arange(start=-50, stop=200, step=10)\n",
    "\n",
    "original = scores['Original_BRISQUE']\n",
    "original.plot(kind = 'hist', bins=bin_values, figsize=[15,10], legend = 'Ture')\n",
    "noise = scores['Stylegan_BRISQUE']\n",
    "noise.plot(kind = 'hist', bins=bin_values, figsize=[15,10],alpha=.4, legend = 'Ture')\n"
   ]
  },
  {
   "cell_type": "code",
   "execution_count": null,
   "metadata": {},
   "outputs": [],
   "source": [
    "import pandas as pd\n",
    "\n",
    "# Create a simple DataFrame\n",
    "df = pd.DataFrame({'A': [1, 2, 3]})\n",
    "# Try appending a new row\n",
    "df = df.append({'A': 4}, ignore_index=True)\n",
    "print(df)\n"
   ]
  },
  {
   "cell_type": "code",
   "execution_count": null,
   "metadata": {},
   "outputs": [],
   "source": [
    "import pandas as pd\n",
    "import os\n",
    "import shutil\n",
    "\n",
    "# Load the CSV files\n",
    "data_ref = pd.read_csv(\"/media/ntu/volume1/home/s123md305_01/Documents/CXR8/Data_Entry_2017_v2020.csv\")\n",
    "data_ref_2 = pd.read_csv(\"/media/ntu/volume1/home/s123md305_01/Documents/Generated/reconstructed_labels.csv\")\n",
    "\n",
    "# Directory where images will be renamed\n",
    "image_dir = \"/media/ntu/volume1/home/s123md305_01/Documents/Generated/IndexMatched224/ComGenerated224\"\n",
    "\n",
    "# Create a mapping from 'Finding Labels' to a set of 'Image Index' from the first CSV\n",
    "label_to_images_map = {}\n",
    "for index, row in data_ref.iterrows():\n",
    "    label = row['Finding Labels']\n",
    "    if label not in label_to_images_map:\n",
    "        label_to_images_map[label] = set()\n",
    "    label_to_images_map[label].add(row['Image Index'])\n",
    "\n",
    "# Iterate over the second DataFrame and rename images in the folder\n",
    "for index, row in data_ref_2.iterrows():\n",
    "    label_2 = row['Finding Labels']\n",
    "    image_name_2 = row['Image Index']\n",
    "\n",
    "    if label_2 in label_to_images_map:\n",
    "        # Get a non-used image name from the set, if available\n",
    "        if label_to_images_map[label_2]:\n",
    "            new_image_name = label_to_images_map[label_2].pop()  # Remove an item to prevent reuse\n",
    "\n",
    "            original_path = os.path.join(image_dir, image_name_2)\n",
    "            new_path = os.path.join(image_dir, new_image_name)\n",
    "\n",
    "            if os.path.exists(original_path):\n",
    "                os.rename(original_path, new_path)\n",
    "                print(f\"Renamed {original_path} to {new_path}\")\n",
    "            else:\n",
    "                print(f\"File {original_path} does not exist.\")\n",
    "        else:\n",
    "            print(f\"No available unique names left for label {label_2}.\")\n",
    "    else:\n",
    "        print(f\"Label {label_2} from second CSV not found in first CSV.\")\n"
   ]
  },
  {
   "cell_type": "code",
   "execution_count": null,
   "metadata": {},
   "outputs": [],
   "source": [
    "import skimage as sk\n",
    "sk.__version__"
   ]
  },
  {
   "cell_type": "code",
   "execution_count": null,
   "metadata": {},
   "outputs": [],
   "source": [
    "import warnings\n",
    "import pandas as pd\n",
    "import PIL.Image\n",
    "import imquality.brisque as brisque\n",
    "from tqdm import tqdm\n",
    "\n",
    "warnings.simplefilter(action='ignore', category=FutureWarning)\n",
    "\n",
    "# Initialize an empty list to store the scores\n",
    "scores = []\n",
    "\n",
    "# Loop through the image names\n",
    "for i in tqdm(range(len(img_names))):\n",
    "    name = img_names[i]\n",
    "\n",
    "    # Load the original image and calculate its BRISQUE score\n",
    "    ori_path = '/media/ntu/volume1/home/s123md305_01/Documents/CombinedResized/Resized112/' + name\n",
    "    ori = PIL.Image.open(ori_path)\n",
    "    ori_score = brisque.score(ori)\n",
    "\n",
    "    # Load the StyleGAN image and calculate its BRISQUE score\n",
    "    gan_path = '/media/ntu/volume1/home/s123md305_01/Documents/Generated/IndexMatched112/ComGenerated112/' + name\n",
    "    gan = PIL.Image.open(gan_path)\n",
    "    gan_score = brisque.score(gan)\n",
    "\n",
    "    # Append the scores and image name to the list\n",
    "    scores.append({'Img_Name': name, 'Original_BRISQUE': ori_score, 'StyleGAN_BRISQUE': gan_score})\n",
    "\n",
    "# Convert the list of dictionaries to a DataFrame\n",
    "scores_df = pd.DataFrame(scores)\n",
    "\n",
    "# Save the resulting DataFrame to a CSV file\n",
    "scores_df.to_csv('/media/ntu/volume1/home/s123md305_01/Documents/Results/IQA_BRISQUE.csv')\n"
   ]
  },
  {
   "cell_type": "code",
   "execution_count": null,
   "metadata": {},
   "outputs": [],
   "source": [
    "bin_values = np.arange(start=-50, stop=200, step=10)\n",
    "\n",
    "# Plotting\n",
    "import matplotlib.pyplot as plt\n",
    "\n",
    "plt.figure(figsize=[15,10])\n",
    "plt.hist(scores_df['Original_BRISQUE'], bins=bin_values, alpha=0.7, label='Original')\n",
    "plt.hist(scores_df['StyleGAN_BRISQUE'], bins=bin_values, alpha=0.7, label='StyleGAN')\n",
    "plt.title('Histogram of BRISQUE Scores')\n",
    "plt.xlabel('BRISQUE Score')\n",
    "plt.ylabel('Frequency')\n",
    "plt.legend()\n",
    "plt.show()"
   ]
  },
  {
   "cell_type": "code",
   "execution_count": null,
   "metadata": {},
   "outputs": [],
   "source": [
    "import numpy as np\n",
    "import matplotlib.pyplot as plt\n",
    "\n",
    "# Assuming scores_df is defined and contains your data\n",
    "\n",
    "# Define bin values for the histogram\n",
    "bin_values = np.arange(start=-50, stop=200, step=10)\n",
    "\n",
    "# Plotting\n",
    "plt.figure(figsize=[15, 10])\n",
    "plt.hist(scores_df['Original_BRISQUE'], bins=bin_values, alpha=0.7, label='Original')\n",
    "plt.hist(scores_df['StyleGAN_BRISQUE'], bins=bin_values, alpha=0.7, label='StyleGAN')\n",
    "plt.title('Histogram of BRISQUE Scores')\n",
    "plt.xlabel('BRISQUE Score')\n",
    "plt.ylabel('Frequency')\n",
    "plt.legend()\n",
    "plt.xlim(-50, 100)  # Limiting the x-axis to -50 to 100\n",
    "plt.show()\n"
   ]
  },
  {
   "cell_type": "code",
   "execution_count": null,
   "metadata": {},
   "outputs": [],
   "source": [
    "import warnings\n",
    "import pandas as pd\n",
    "import PIL.Image\n",
    "import imquality.brisque as brisque\n",
    "from tqdm import tqdm\n",
    "\n",
    "warnings.simplefilter(action='ignore', category=FutureWarning)\n",
    "\n",
    "# Initialize an empty list to store the scores\n",
    "scores2 = []\n",
    "\n",
    "# Loop through the image names\n",
    "for i in tqdm(range(len(img_names))):\n",
    "    name = img_names[i]\n",
    "\n",
    "    # Load the original image and calculate its BRISQUE score\n",
    "    ori_path = '/media/ntu/volume1/home/s123md305_01/Documents/CombinedResized/Resized224/' + name\n",
    "    ori = PIL.Image.open(ori_path)\n",
    "    ori_score = brisque.score(ori)\n",
    "\n",
    "    # Load the StyleGAN image and calculate its BRISQUE score\n",
    "    gan_path = '/media/ntu/volume1/home/s123md305_01/Documents/Generated/IndexMatched224/ComGenerated224/' + name\n",
    "    gan = PIL.Image.open(gan_path)\n",
    "    gan_score = brisque.score(gan)\n",
    "\n",
    "    # Append the scores and image name to the list\n",
    "    scores2.append({'Img_Name': name, 'Original_BRISQUE': ori_score, 'StyleGAN_BRISQUE': gan_score})\n",
    "\n",
    "# Convert the list of dictionaries to a DataFrame\n",
    "scores_df2 = pd.DataFrame(scores2)\n",
    "\n",
    "# Save the resulting DataFrame to a CSV file\n",
    "scores_df2.to_csv('/media/ntu/volume1/home/s123md305_01/Documents/Results/IQA_BRISQUE2.csv')\n"
   ]
  },
  {
   "cell_type": "code",
   "execution_count": null,
   "metadata": {},
   "outputs": [],
   "source": [
    "import warnings\n",
    "import pandas as pd\n",
    "from PIL import Image\n",
    "import imquality.brisque as brisque\n",
    "from tqdm import tqdm\n",
    "from concurrent.futures import ProcessPoolExecutor\n",
    "\n",
    "warnings.simplefilter(action='ignore', category=FutureWarning)\n",
    "\n",
    "# Define a function to compute BRISQUE scores for original and StyleGAN images\n",
    "def compute_brisque_scores(image_name):\n",
    "    # Paths to the original and StyleGAN images\n",
    "    ori_path = f'/media/ntu/volume1/home/s123md305_01/Documents/CombinedResized/Resized224/{image_name}'\n",
    "    gan_path = f'/media/ntu/volume1/home/s123md305_01/Documents/Generated/IndexMatched224/ComGenerated224/{image_name}'\n",
    "    \n",
    "    # Load images\n",
    "    ori = Image.open(ori_path)\n",
    "    gan = Image.open(gan_path)\n",
    "    \n",
    "    # Calculate BRISQUE scores\n",
    "    ori_score = brisque.score(ori)\n",
    "    gan_score = brisque.score(gan)\n",
    "    \n",
    "    # Return a dictionary with the scores and image name\n",
    "    return {'Img_Name': image_name, 'Original_BRISQUE': ori_score, 'StyleGAN_BRISQUE': gan_score}\n",
    "\n",
    "# Assuming img_names is a list of your image names\n",
    "# img_names = [...]\n",
    "\n",
    "# Use ProcessPoolExecutor to parallelize the BRISQUE score computation\n",
    "with ProcessPoolExecutor() as executor:\n",
    "    results = list(tqdm(executor.map(compute_brisque_scores, img_names), total=len(img_names)))\n",
    "\n",
    "# Convert the results to a DataFrame\n",
    "scores_df2 = pd.DataFrame(results)\n",
    "\n",
    "# Save the DataFrame to a CSV file\n",
    "scores_df2.to_csv('/media/ntu/volume1/home/s123md305_01/Documents/Results/IQA_BRISQUE2.csv', index=False)\n"
   ]
  },
  {
   "cell_type": "code",
   "execution_count": null,
   "metadata": {},
   "outputs": [],
   "source": [
    "import numpy as np\n",
    "import matplotlib.pyplot as plt\n",
    "\n",
    "# Assuming scores_df is defined and contains your data\n",
    "\n",
    "# Define bin values for the histogram\n",
    "bin_values = np.arange(start=-50, stop=200, step=10)\n",
    "\n",
    "# Plotting\n",
    "plt.figure(figsize=[15, 10])\n",
    "plt.hist(scores_df2['Original_BRISQUE'], bins=bin_values, alpha=0.7, label='Original')\n",
    "plt.hist(scores_df2['StyleGAN_BRISQUE'], bins=bin_values, alpha=0.7, label='StyleGAN')\n",
    "plt.title('Histogram of BRISQUE Scores')\n",
    "plt.xlabel('BRISQUE Score')\n",
    "plt.ylabel('Frequency')\n",
    "plt.legend()\n",
    "plt.xlim(-50, 100)  # Limiting the x-axis to -50 to 100\n",
    "plt.show()\n"
   ]
  },
  {
   "cell_type": "code",
   "execution_count": null,
   "metadata": {},
   "outputs": [],
   "source": []
  }
 ],
 "metadata": {
  "kernelspec": {
   "display_name": "Python 3 (ipykernel)",
   "language": "python",
   "name": "python3"
  },
  "language_info": {
   "codemirror_mode": {
    "name": "ipython",
    "version": 3
   },
   "file_extension": ".py",
   "mimetype": "text/x-python",
   "name": "python",
   "nbconvert_exporter": "python",
   "pygments_lexer": "ipython3",
   "version": "3.9.13"
  }
 },
 "nbformat": 4,
 "nbformat_minor": 4
}
