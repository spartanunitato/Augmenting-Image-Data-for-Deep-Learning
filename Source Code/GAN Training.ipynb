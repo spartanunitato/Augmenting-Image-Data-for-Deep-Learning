{
 "cells": [
  {
   "cell_type": "markdown",
   "metadata": {},
   "source": [
    "## StyleGAN2 PyTorch"
   ]
  },
  {
   "cell_type": "code",
   "execution_count": null,
   "metadata": {
    "executionInfo": {
     "elapsed": 6,
     "status": "ok",
     "timestamp": 1627827882196,
     "user": {
      "displayName": "Code With Aarohi",
      "photoUrl": "https://lh3.googleusercontent.com/a-/AOh14GhDykKNncQS1xHrEv4HD6AW1rHDwSSAtc6R39fACA=s64",
      "userId": "13171438620520647509"
     },
     "user_tz": -330
    },
    "id": "5ZHjlcQP2xQu"
   },
   "outputs": [],
   "source": [
    "# Clone the StyleGAN2-ADA repository and go inside the directory\n",
    "\n",
    "!git clone https://github.com/NVlabs/stylegan2-ada-pytorch.git"
   ]
  },
  {
   "cell_type": "code",
   "execution_count": null,
   "metadata": {
    "colab": {
     "base_uri": "https://localhost:8080/"
    },
    "executionInfo": {
     "elapsed": 5,
     "status": "ok",
     "timestamp": 1627827882196,
     "user": {
      "displayName": "Code With Aarohi",
      "photoUrl": "https://lh3.googleusercontent.com/a-/AOh14GhDykKNncQS1xHrEv4HD6AW1rHDwSSAtc6R39fACA=s64",
      "userId": "13171438620520647509"
     },
     "user_tz": -330
    },
    "id": "G2fnTPv826h3",
    "outputId": "5bb4795d-d497-4d03-8f3c-5f9c39a4d3d6"
   },
   "outputs": [],
   "source": [
    "cd /media/ntu/volume1/home/s123md305_01/Documents/StyleGAN2-with-adaptive-discriminator-augmentation-ADA--main/stylegan2-ada-pytorch\n"
   ]
  },
  {
   "cell_type": "markdown",
   "metadata": {},
   "source": [
    "# Preparing Custom dataset"
   ]
  },
  {
   "cell_type": "markdown",
   "metadata": {
    "executionInfo": {
     "elapsed": 4,
     "status": "ok",
     "timestamp": 1627827882197,
     "user": {
      "displayName": "Code With Aarohi",
      "photoUrl": "https://lh3.googleusercontent.com/a-/AOh14GhDykKNncQS1xHrEv4HD6AW1rHDwSSAtc6R39fACA=s64",
      "userId": "13171438620520647509"
     },
     "user_tz": -330
    },
    "id": "TwUvdDCK5LEN"
   },
   "source": [
    "1- Download the CXR8 dataset and extract all the images into one folder.\n",
    "\n",
    "2- All the images are square and the same size.\n",
    "\n",
    "3- Code needs the dataset to be in .tfrecords format. We need to convert our dataset to this format. \n",
    "   StyleGAN2-ADA has made a script that makes this conversion easy."
   ]
  },
  {
   "cell_type": "markdown",
   "metadata": {},
   "source": [
    "# Resizing the images"
   ]
  },
  {
   "cell_type": "code",
   "execution_count": null,
   "metadata": {
    "colab": {
     "base_uri": "https://localhost:8080/"
    },
    "executionInfo": {
     "elapsed": 45062,
     "status": "ok",
     "timestamp": 1627827952912,
     "user": {
      "displayName": "Code With Aarohi",
      "photoUrl": "https://lh3.googleusercontent.com/a-/AOh14GhDykKNncQS1xHrEv4HD6AW1rHDwSSAtc6R39fACA=s64",
      "userId": "13171438620520647509"
     },
     "user_tz": -330
    },
    "id": "sF-qfAkJ-Xwc",
    "outputId": "c4d2761f-1453-4284-a91e-48fc0059d58d"
   },
   "outputs": [],
   "source": [
    "import cv2\n",
    "import os\n",
    "\n",
    "# Set the path where the original folders are located\n",
    "original_path = '/media/ntu/volume1/home/s123md305_01/Documents/Dataset'\n",
    "\n",
    "# Set the path where the resized images will be stored\n",
    "destination_path = '/media/ntu/volume1/home/s123md305_01/Documents/ResizedFull'\n",
    "\n",
    "# Define the new image size\n",
    "im_size = 256\n",
    "\n",
    "# Function to ensure directory exists or create it\n",
    "def ensure_dir(directory):\n",
    "    if not os.path.exists(directory):\n",
    "        os.makedirs(directory)\n",
    "\n",
    "# Iterate over all the folders in the original directory\n",
    "for label_folder in os.listdir(original_path):\n",
    "    # Make sure it's a folder\n",
    "    label_path = os.path.join(original_path, label_folder)\n",
    "    if os.path.isdir(label_path):\n",
    "        # Create a corresponding folder in the destination directory\n",
    "        dest_label_path = os.path.join(destination_path, label_folder)\n",
    "        ensure_dir(dest_label_path)\n",
    "        \n",
    "        # Iterate over all images in the current label's folder\n",
    "        for file in os.listdir(label_path):\n",
    "            # Check if it's an image\n",
    "            if file.lower().endswith(('.png', '.jpg', '.jpeg')):\n",
    "                img_path = os.path.join(label_path, file)\n",
    "                img = cv2.imread(img_path)  # reading that image as array\n",
    "                img = cv2.resize(img, (im_size, im_size))  # resizing the image\n",
    "                print(f'Resized image {file} to {img.shape}')\n",
    "                \n",
    "                # Save the resized image to the corresponding label folder in the destination directory\n",
    "                resized_img_path = os.path.join(dest_label_path, file)\n",
    "                cv2.imwrite(resized_img_path, img)\n",
    "                print(f'Saved resized image to {resized_img_path}')\n"
   ]
  },
  {
   "cell_type": "markdown",
   "metadata": {},
   "source": [
    "# Converting images into .tfrecords"
   ]
  },
  {
   "cell_type": "code",
   "execution_count": null,
   "metadata": {
    "colab": {
     "base_uri": "https://localhost:8080/"
    },
    "executionInfo": {
     "elapsed": 31072,
     "status": "ok",
     "timestamp": 1627827983975,
     "user": {
      "displayName": "Code With Aarohi",
      "photoUrl": "https://lh3.googleusercontent.com/a-/AOh14GhDykKNncQS1xHrEv4HD6AW1rHDwSSAtc6R39fACA=s64",
      "userId": "13171438620520647509"
     },
     "user_tz": -330
    },
    "id": "nAloDQez5vu3",
    "outputId": "a8aeae32-1a0e-44d2-a743-3a779c180e5f"
   },
   "outputs": [],
   "source": [
    "import os\n",
    "import subprocess\n",
    "\n",
    "# Set the base paths for the resized images and the target TF folders\n",
    "resized_base_path = '/media/ntu/volume1/home/s123md305_01/Documents/Resized'\n",
    "tf_base_path = '/media/ntu/volume1/home/s123md305_01/Documents/TF'\n",
    "\n",
    "# Function to ensure directory exists or create it\n",
    "def ensure_dir(directory):\n",
    "    if not os.path.exists(directory):\n",
    "        os.makedirs(directory)\n",
    "\n",
    "# Iterate over both 'resized 256' and 'resized 512' directories\n",
    "for size_dir in ['Resized 256']:\n",
    "    size_path = os.path.join(resized_base_path, size_dir)\n",
    "    \n",
    "    # Iterate over each label subfolder in the current size directory\n",
    "    for label_folder in os.listdir(size_path):\n",
    "        label_path = os.path.join(size_path, label_folder)\n",
    "        if os.path.isdir(label_path):\n",
    "            # Define the destination directory within the TF folder structure\n",
    "            tf_label_path = os.path.join(tf_base_path, size_dir, label_folder)\n",
    "            ensure_dir(tf_label_path)\n",
    "            \n",
    "            # Define the source directory (which is the current label subfolder)\n",
    "            origin_path = label_path\n",
    "            \n",
    "            # Define the destination directory for the TF records\n",
    "            destination_path = tf_label_path\n",
    "            \n",
    "            # Run the dataset_tool.py command\n",
    "            command = f'python dataset_tool.py --dest=\"{destination_path}\" --source=\"{origin_path}\"'\n",
    "            subprocess.run(command, shell=True)\n"
   ]
  },
  {
   "cell_type": "code",
   "execution_count": null,
   "metadata": {
    "colab": {
     "base_uri": "https://localhost:8080/"
    },
    "executionInfo": {
     "elapsed": 184923,
     "status": "ok",
     "timestamp": 1627828168896,
     "user": {
      "displayName": "Code With Aarohi",
      "photoUrl": "https://lh3.googleusercontent.com/a-/AOh14GhDykKNncQS1xHrEv4HD6AW1rHDwSSAtc6R39fACA=s64",
      "userId": "13171438620520647509"
     },
     "user_tz": -330
    },
    "id": "rSPgyXVP-S-T",
    "outputId": "bf11b2e0-87e3-4df8-8c58-80a39ef183ab"
   },
   "outputs": [],
   "source": [
    "#Training StyleGAN2-ADA\n",
    "\n",
    "# snap is how often you want to save the model and sample results\n",
    "# res is what image resolution you want to train on\n",
    "# augpipe is augmentation pipes, such as 'blit', 'geom', 'color', 'filter', 'noise', 'cutout' or combination of these\n",
    "\n",
    "\n",
    "\n",
    "import os\n",
    "import subprocess\n",
    "\n",
    "# Define the paths\n",
    "base_data_path = '/media/ntu/volume1/home/s123md305_01/Documents/TF/Remainding'\n",
    "results_base_path = './results/256'\n",
    "\n",
    "# Ensure the results directory exists\n",
    "os.makedirs(results_base_path, exist_ok=True)\n",
    "\n",
    "# Iterate over each subfolder in the 'Resized 256' directory\n",
    "for subfolder in sorted(os.listdir(base_data_path)):\n",
    "    # Construct the full path to the subfolder\n",
    "    data_path = os.path.join(base_data_path, subfolder)\n",
    "    if os.path.isdir(data_path):  # Check if it is a directory\n",
    "        # Construct the output directory path\n",
    "        outdir = os.path.join(results_base_path, subfolder)\n",
    "\n",
    "        # Ensure the output directory for this subfolder exists\n",
    "        os.makedirs(outdir, exist_ok=True)\n",
    "\n",
    "        # Construct the training command\n",
    "        command = [\n",
    "            'python', 'train.py',\n",
    "            '--outdir', outdir,\n",
    "            '--data', data_path,\n",
    "            '--mirror','1',\n",
    "            '--augpipe', 'bgcfnc',\n",
    "            '--gpus', '2',\n",
    "            '--aug','ada',\n",
    "            '--metrics','none'\n",
    "            \n",
    "        ]\n",
    "\n",
    "        # Print the command to the console for debugging\n",
    "        print('Running command:', ' '.join(command))\n",
    "\n",
    "        # Initiate the training process and wait for it to complete\n",
    "        subprocess.run(command, check=True)\n"
   ]
  },
  {
   "cell_type": "markdown",
   "metadata": {
    "id": "1Vybo5B_Hv5y"
   },
   "source": [
    "## Generate the images"
   ]
  },
  {
   "cell_type": "code",
   "execution_count": null,
   "metadata": {},
   "outputs": [],
   "source": [
    "!python generate.py --outdir=Generated256/Infiltration --trunc=0.5 --seeds=1-9547 --network=/media/ntu/volume1/home/s123md305_01/Documents/StyleGAN2-with-adaptive-discriminator-augmentation-ADA--main/stylegan2-ada-pytorch/results/256/Infiltration/00000-Infiltration-mirror-auto2-ada-bgcfnc/network-snapshot-005000.pkl\n"
   ]
  },
  {
   "cell_type": "code",
   "execution_count": null,
   "metadata": {},
   "outputs": [],
   "source": [
    "import cv2\n",
    "import os\n",
    "\n",
    "# Set the path where the original images are located\n",
    "original_path = '/media/ntu/volume1/home/s123md305_01/Documents/Dataset'\n",
    "\n",
    "# Set the path where the resized images will be stored\n",
    "destination_path = '/media/ntu/volume1/home/s123md305_01/Documents/Resized224'\n",
    "\n",
    "# Define the new image size\n",
    "im_size = 224\n",
    "\n",
    "# Function to ensure the destination directory exists or create it\n",
    "def ensure_dir(directory):\n",
    "    if not os.path.exists(directory):\n",
    "        os.makedirs(directory)\n",
    "\n",
    "# Ensure the destination directory exists\n",
    "ensure_dir(destination_path)\n",
    "\n",
    "# Iterate over all files in the original directory\n",
    "for file in os.listdir(original_path):\n",
    "    # Check if the file is an image\n",
    "    if file.lower().endswith(('.png', '.jpg', '.jpeg')):\n",
    "        img_path = os.path.join(original_path, file)\n",
    "        img = cv2.imread(img_path)  # Read the image as an array\n",
    "        img = cv2.resize(img, (im_size, im_size))  # Resize the image\n",
    "        print(f'Resized image {file} to {img.shape}')\n",
    "        \n",
    "        # Save the resized image to the destination directory\n",
    "        resized_img_path = os.path.join(destination_path, file)\n",
    "        cv2.imwrite(resized_img_path, img)\n",
    "        print(f'Saved resized image to {resized_img_path}')\n"
   ]
  },
  {
   "cell_type": "code",
   "execution_count": null,
   "metadata": {},
   "outputs": [],
   "source": [
    "import cv2\n",
    "import os\n",
    "\n",
    "# Set the path where the original images are located\n",
    "original_path = '/media/ntu/volume1/home/s123md305_01/Documents/Dataset'\n",
    "\n",
    "# Set the path where the resized images will be stored\n",
    "destination_path = '/media/ntu/volume1/home/s123md305_01/Documents/Resized112'\n",
    "\n",
    "# Define the new image size\n",
    "im_size = 112\n",
    "\n",
    "# Function to ensure the destination directory exists or create it\n",
    "def ensure_dir(directory):\n",
    "    if not os.path.exists(directory):\n",
    "        os.makedirs(directory)\n",
    "\n",
    "# Ensure the destination directory exists\n",
    "ensure_dir(destination_path)\n",
    "\n",
    "# Iterate over all files in the original directory\n",
    "for file in os.listdir(original_path):\n",
    "    # Check if the file is an image\n",
    "    if file.lower().endswith(('.png', '.jpg', '.jpeg')):\n",
    "        img_path = os.path.join(original_path, file)\n",
    "        img = cv2.imread(img_path)  # Read the image as an array\n",
    "        img = cv2.resize(img, (im_size, im_size))  # Resize the image\n",
    "        print(f'Resized image {file} to {img.shape}')\n",
    "        \n",
    "        # Save the resized image to the destination directory\n",
    "        resized_img_path = os.path.join(destination_path, file)\n",
    "        cv2.imwrite(resized_img_path, img)\n",
    "        print(f'Saved resized image to {resized_img_path}')\n"
   ]
  },
  {
   "cell_type": "code",
   "execution_count": null,
   "metadata": {},
   "outputs": [],
   "source": [
    "/media/ntu/volume1/home/s123md305_01/Documents/StyleGAN2-with-adaptive-discriminator-augmentation-ADA--main/stylegan2-ada-pytorch/Generated256"
   ]
  },
  {
   "cell_type": "code",
   "execution_count": null,
   "metadata": {},
   "outputs": [],
   "source": [
    "import cv2\n",
    "import os\n",
    "\n",
    "# Set the path where the original folders are located\n",
    "original_path = '/media/ntu/volume1/home/s123md305_01/Documents/StyleGAN2-with-adaptive-discriminator-augmentation-ADA--main/stylegan2-ada-pytorch/Generated256'\n",
    "\n",
    "# Define the new image sizes\n",
    "image_sizes = [224, 128, 112]\n",
    "\n",
    "# Function to ensure directory exists or create it\n",
    "def ensure_dir(directory):\n",
    "    if not os.path.exists(directory):\n",
    "        os.makedirs(directory)\n",
    "\n",
    "# Function to resize and save an image\n",
    "def resize_and_save(image_path, destination_path, size):\n",
    "    img = cv2.imread(image_path)  # Read the image\n",
    "    img = cv2.resize(img, (size, size))  # Resize the image\n",
    "    cv2.imwrite(destination_path, img)  # Save the resized image\n",
    "\n",
    "# Iterate over all the folders in the original directory\n",
    "for label_folder in os.listdir(original_path):\n",
    "    label_path = os.path.join(original_path, label_folder)\n",
    "    if os.path.isdir(label_path):\n",
    "        # For each target size, create a new root directory and process images\n",
    "        for size in image_sizes:\n",
    "            new_root_folder = f'Generated{size}'\n",
    "            dest_label_path = os.path.join('/media/ntu/volume1/home/s123md305_01/Documents/StyleGAN2-with-adaptive-discriminator-augmentation-ADA--main/stylegan2-ada-pytorch', new_root_folder, label_folder)\n",
    "            ensure_dir(dest_label_path)\n",
    "\n",
    "            # Iterate over all images in the current label's folder\n",
    "            for file in os.listdir(label_path):\n",
    "                if file.lower().endswith(('.png', '.jpg', '.jpeg')):\n",
    "                    img_path = os.path.join(label_path, file)\n",
    "                    resized_img_path = os.path.join(dest_label_path, file)\n",
    "                    resize_and_save(img_path, resized_img_path, size)\n",
    "                    print(f'Resized image {file} to {size}x{size} and saved to {resized_img_path}')\n"
   ]
  },
  {
   "cell_type": "code",
   "execution_count": null,
   "metadata": {},
   "outputs": [],
   "source": [
    "import cv2\n",
    "import os\n",
    "\n",
    "# Original and destination paths\n",
    "original_path = '/media/ntu/volume1/home/s123md305_01/Documents/StyleGAN2-with-adaptive-discriminator-augmentation-ADA--main/stylegan2-ada-pytorch/Generated256'\n",
    "destination_base_path = '/media/ntu/volume1/home/s123md305_01/Documents/StyleGAN2-with-adaptive-discriminator-augmentation-ADA--main/stylegan2-ada-pytorch'\n",
    "\n",
    "# Image sizes for resizing\n",
    "image_sizes = [224, 128, 112]\n",
    "\n",
    "def ensure_dir(directory):\n",
    "    if not os.path.exists(directory):\n",
    "        os.makedirs(directory)\n",
    "\n",
    "def resize_and_save(image_path, destination_path, size):\n",
    "    img = cv2.imread(image_path)\n",
    "    if img is not None:\n",
    "        img = cv2.resize(img, (size, size))\n",
    "        cv2.imwrite(destination_path, img)\n",
    "    else:\n",
    "        print(f\"Failed to load image {image_path}\")\n",
    "\n",
    "for label_folder in os.listdir(original_path):\n",
    "    label_path = os.path.join(original_path, label_folder)\n",
    "    if os.path.isdir(label_path):\n",
    "        for size in image_sizes:\n",
    "            # Create a new root folder for each size\n",
    "            destination_path = os.path.join(destination_base_path, f'Generated{size}', label_folder)\n",
    "            ensure_dir(destination_path)\n",
    "\n",
    "            for file in os.listdir(label_path):\n",
    "                if file.lower().endswith(('.png', '.jpg', '.jpeg')):\n",
    "                    img_path = os.path.join(label_path, file)\n",
    "                    resized_img_path = os.path.join(destination_path, file)\n",
    "                    resize_and_save(img_path, resized_img_path, size)\n"
   ]
  },
  {
   "cell_type": "code",
   "execution_count": null,
   "metadata": {},
   "outputs": [],
   "source": [
    "import os\n",
    "\n",
    "def find_zero_byte_files(start_path):\n",
    "    for root, dirs, files in os.walk(start_path):\n",
    "        for file in files:\n",
    "            file_path = os.path.join(root, file)\n",
    "            if os.path.getsize(file_path) == 0:\n",
    "                print(file_path)\n",
    "\n",
    "# Set the root directory you want to start the search from\n",
    "root_directory = '/media/ntu/volume1/home/s123md305_01/Documents/StyleGAN2-with-adaptive-discriminator-augmentation-ADA--main/stylegan2-ada-pytorch/Generated256'\n",
    "find_zero_byte_files(root_directory)\n"
   ]
  },
  {
   "cell_type": "code",
   "execution_count": null,
   "metadata": {},
   "outputs": [],
   "source": [
    "import cv2\n",
    "import os\n",
    "\n",
    "# Set the path where the images are located\n",
    "original_path = '/media/ntu/volume1/home/s123md305_01/Documents/ResizedFull'\n",
    "\n",
    "# Define the new image sizes\n",
    "image_sizes = [256, 128]\n",
    "\n",
    "# Function to ensure directory exists or create it\n",
    "def ensure_dir(directory):\n",
    "    if not os.path.exists(directory):\n",
    "        os.makedirs(directory)\n",
    "\n",
    "# Function to resize and save an image\n",
    "def resize_and_save(image_path, destination_path, size):\n",
    "    img = cv2.imread(image_path)  # Read the image\n",
    "    img = cv2.resize(img, (size, size))  # Resize the image\n",
    "    cv2.imwrite(destination_path, img)  # Save the resized image\n",
    "\n",
    "# Ensure the original path contains images\n",
    "if os.path.isdir(original_path):\n",
    "    # For each target size, create a new directory for resized images\n",
    "    for size in image_sizes:\n",
    "        new_folder_name = f'Resized{size}'\n",
    "        dest_path = os.path.join('/media/ntu/volume1/home/s123md305_01/Documents', new_folder_name)\n",
    "        ensure_dir(dest_path)\n",
    "\n",
    "        # Iterate over all images in the original directory\n",
    "        for file in os.listdir(original_path):\n",
    "            if file.lower().endswith(('.png', '.jpg', '.jpeg')):\n",
    "                img_path = os.path.join(original_path, file)\n",
    "                resized_img_path = os.path.join(dest_path, file)\n",
    "                resize_and_save(img_path, resized_img_path, size)\n",
    "                print(f'Resized image {file} to {size}x{size} and saved to {resized_img_path}')\n"
   ]
  },
  {
   "cell_type": "code",
   "execution_count": null,
   "metadata": {},
   "outputs": [],
   "source": [
    "import os\n",
    "\n",
    "# The root directory containing sub-subfolders with images\n",
    "root_dir = '/media/ntu/volume1/home/s123md305_01/Documents/Generated'\n",
    "\n",
    "# Walk through the directory\n",
    "for root, dirs, files in os.walk(root_dir):\n",
    "    for file in files:\n",
    "        # Check if the file is an image\n",
    "        if file.lower().endswith(('.png', '.jpg', '.jpeg')):\n",
    "            # The current sub-subfolder name\n",
    "            sub_subfolder_name = os.path.basename(root)\n",
    "            \n",
    "            # New file name with the sub-subfolder name as prefix\n",
    "            new_file_name = f\"{sub_subfolder_name}_{file}\"\n",
    "            \n",
    "            # Current file path\n",
    "            current_file_path = os.path.join(root, file)\n",
    "            \n",
    "            # New file path\n",
    "            new_file_path = os.path.join(root, new_file_name)\n",
    "            \n",
    "            # Rename the file\n",
    "            os.rename(current_file_path, new_file_path)\n",
    "            print(f'Renamed {file} to {new_file_name}')\n",
    "\n",
    "print('All images have been renamed.')\n"
   ]
  },
  {
   "cell_type": "code",
   "execution_count": null,
   "metadata": {},
   "outputs": [],
   "source": [
    "import pandas as pd\n",
    "import os\n",
    "\n",
    "# The root folder where the separated class folders are located\n",
    "root_folder = '/media/ntu/volume1/home/s123md305_01/Documents/Generated/Generated256'\n",
    "\n",
    "# The path for the new CSV file\n",
    "csv_file_path = '/media/ntu/volume1/home/s123md305_01/Documents/Generated/reconstructed_labels.csv'\n",
    "\n",
    "# Prepare a list to hold the data\n",
    "data = []\n",
    "\n",
    "# Iterate over all folders in the root directory, where each folder's name is a label\n",
    "for label_folder in os.listdir(root_folder):\n",
    "    label_path = os.path.join(root_folder, label_folder)\n",
    "    \n",
    "    # Check if it's a directory\n",
    "    if os.path.isdir(label_path):\n",
    "        # List all files in the directory\n",
    "        for image_name in os.listdir(label_path):\n",
    "            # Check if it's a file and not a subdirectory\n",
    "            if os.path.isfile(os.path.join(label_path, image_name)):\n",
    "                # Append the image name and label to the data list\n",
    "                data.append([image_name, label_folder])\n",
    "\n",
    "# Convert the data list to a DataFrame\n",
    "df = pd.DataFrame(data, columns=['Image Index', 'Finding Labels'])\n",
    "\n",
    "# Save the DataFrame to a CSV file\n",
    "df.to_csv(csv_file_path, index=False)\n",
    "\n",
    "print('CSV file has been created with image names and labels.')\n"
   ]
  },
  {
   "cell_type": "code",
   "execution_count": null,
   "metadata": {},
   "outputs": [],
   "source": [
    "import os\n",
    "import shutil\n",
    "\n",
    "base_path = '/media/ntu/volume1/home/s123md305_01/Documents/Generated'\n",
    "\n",
    "# Iterate through each subfolder in the base directory\n",
    "for subfolder in os.listdir(base_path):\n",
    "    subfolder_path = os.path.join(base_path, subfolder)\n",
    "\n",
    "    # Check if it's a directory to avoid processing files\n",
    "    if os.path.isdir(subfolder_path):\n",
    "        # Construct the new destination subfolder name and path\n",
    "        new_subfolder_name = 'Com' + subfolder  # Prepend 'Com' to the original subfolder name\n",
    "        new_subfolder_path = os.path.join(base_path, new_subfolder_name)\n",
    "\n",
    "        # Create the new subfolder if it doesn't exist\n",
    "        if not os.path.exists(new_subfolder_path):\n",
    "            os.makedirs(new_subfolder_path)\n",
    "            print(f'Created new subfolder: {new_subfolder_path}')\n",
    "\n",
    "        # Iterate through each sub-subfolder in the current subfolder\n",
    "        for sub_subfolder in os.listdir(subfolder_path):\n",
    "            sub_subfolder_path = os.path.join(subfolder_path, sub_subfolder)\n",
    "\n",
    "            # Again, check if it's a directory\n",
    "            if os.path.isdir(sub_subfolder_path):\n",
    "                # Iterate through each file in the sub-subfolder\n",
    "                for filename in os.listdir(sub_subfolder_path):\n",
    "                    file_path = os.path.join(sub_subfolder_path, filename)\n",
    "                    \n",
    "                    # Construct the destination path in the new corresponding subfolder\n",
    "                    destination_path = os.path.join(new_subfolder_path, filename)\n",
    "                    \n",
    "                    # Check if the file is an image before copying\n",
    "                    if file_path.lower().endswith(('.png', '.jpg', '.jpeg', '.bmp', '.gif')):\n",
    "                        # Copy the file to the destination\n",
    "                        shutil.copy(file_path, destination_path)\n",
    "                        print(f'Copied {file_path} to {destination_path}')\n"
   ]
  },
  {
   "cell_type": "code",
   "execution_count": null,
   "metadata": {},
   "outputs": [],
   "source": []
  }
 ],
 "metadata": {
  "accelerator": "GPU",
  "colab": {
   "authorship_tag": "ABX9TyOS9kZVLODeALxaK26do9k6",
   "collapsed_sections": [],
   "name": "stylegan2.ipynb",
   "provenance": []
  },
  "kernelspec": {
   "display_name": "Python 3 (ipykernel)",
   "language": "python",
   "name": "python3"
  },
  "language_info": {
   "codemirror_mode": {
    "name": "ipython",
    "version": 3
   },
   "file_extension": ".py",
   "mimetype": "text/x-python",
   "name": "python",
   "nbconvert_exporter": "python",
   "pygments_lexer": "ipython3",
   "version": "3.9.13"
  }
 },
 "nbformat": 4,
 "nbformat_minor": 1
}
