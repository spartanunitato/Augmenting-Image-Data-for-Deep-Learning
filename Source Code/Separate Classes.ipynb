{
 "cells": [
  {
   "cell_type": "markdown",
   "id": "e2a26b31",
   "metadata": {},
   "source": [
    "# This code organises the images in the CXR8 dataset into their separate disease classes, creating new folders for each of the disease classes."
   ]
  },
  {
   "cell_type": "code",
   "execution_count": null,
   "id": "fc113991",
   "metadata": {},
   "outputs": [],
   "source": [
    "import pandas as pd\n",
    "import os\n",
    "import shutil\n",
    "\n",
    "# Load the CSV file into a DataFrame\n",
    "df = pd.read_csv('/media/ntu/volume1/home/s123md305_01/Documents/CXR8/Data_Entry_2017_v2020.csv')\n",
    "\n",
    "# The folder where your images are currently stored\n",
    "source_folder = '/media/ntu/volume1/home/s123md305_01/Documents/Dataset'\n",
    "\n",
    "# The root folder where the separated class folders will be created\n",
    "root_folder = '/media/ntu/volume1/home/s123md305_01/Documents/Separated'\n",
    "\n",
    "# Check if the folder exists, if not, create it\n",
    "def check_create_folder(path):\n",
    "    if not os.path.exists(path):\n",
    "        os.makedirs(path)\n",
    "\n",
    "# Ensure the root folder for separated images exists\n",
    "check_create_folder(root_folder)\n",
    "\n",
    "# Loop through the DataFrame and process each image\n",
    "for index, row in df.iterrows():\n",
    "    image_name = row['Image Index']\n",
    "    labels = row['Finding Labels']\n",
    "    \n",
    "    # Check if the image has a single label\n",
    "    if '|' not in labels:\n",
    "        # The destination folder is the label\n",
    "        dest_folder = os.path.join(root_folder, labels)\n",
    "        \n",
    "        # Check if the destination folder exists, if not, create it\n",
    "        check_create_folder(dest_folder)\n",
    "        \n",
    "        # Define source and destination paths\n",
    "        source_path = os.path.join(source_folder, image_name)\n",
    "        dest_path = os.path.join(dest_folder, image_name)\n",
    "        \n",
    "        # Check if the file exists to avoid errors\n",
    "        if os.path.isfile(source_path):\n",
    "            # Copy the image to the destination folder\n",
    "            shutil.copy(source_path, dest_path)\n",
    "            print(f'Copied {image_name} to {labels}/')\n",
    "        else:\n",
    "            print(f'File {source_path} does not exist. Skipping.')\n",
    "    else:\n",
    "        print(f'Image {image_name} has multiple labels. Skipping.')\n",
    "\n",
    "print('Done separating images.')\n"
   ]
  },
  {
   "cell_type": "code",
   "execution_count": null,
   "id": "d4092dc6",
   "metadata": {},
   "outputs": [],
   "source": []
  }
 ],
 "metadata": {
  "kernelspec": {
   "display_name": "Python 3 (ipykernel)",
   "language": "python",
   "name": "python3"
  },
  "language_info": {
   "codemirror_mode": {
    "name": "ipython",
    "version": 3
   },
   "file_extension": ".py",
   "mimetype": "text/x-python",
   "name": "python",
   "nbconvert_exporter": "python",
   "pygments_lexer": "ipython3",
   "version": "3.9.13"
  }
 },
 "nbformat": 4,
 "nbformat_minor": 5
}
